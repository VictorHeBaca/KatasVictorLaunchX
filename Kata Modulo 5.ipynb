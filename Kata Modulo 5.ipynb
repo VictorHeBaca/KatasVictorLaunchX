{
 "cells": [
  {
   "cell_type": "markdown",
   "metadata": {},
   "source": [
    "# Kata Modulo 5"
   ]
  },
  {
   "cell_type": "markdown",
   "metadata": {},
   "source": [
    "# Ejercicio 1"
   ]
  },
  {
   "cell_type": "code",
   "execution_count": 17,
   "metadata": {},
   "outputs": [],
   "source": [
    "tierra = 149597870\n",
    "jupiter = 778547200"
   ]
  },
  {
   "cell_type": "code",
   "execution_count": 22,
   "metadata": {},
   "outputs": [
    {
     "name": "stdout",
     "output_type": "stream",
     "text": [
      "628949330\n",
      "390577534\n"
     ]
    }
   ],
   "source": [
    "from math import ceil\n",
    "diferencia_km = (jupiter - tierra)\n",
    "print(diferencia_km)\n",
    "diferencia_mi = ceil(diferencia_km * 0.621)\n",
    "print(diferencia_mi)"
   ]
  },
  {
   "cell_type": "markdown",
   "metadata": {},
   "source": [
    "# Ejercicio 2"
   ]
  },
  {
   "cell_type": "code",
   "execution_count": 23,
   "metadata": {},
   "outputs": [],
   "source": [
    "primer_planeta = input('Introdusca la distancia del sol al primer planeta en KM')\n",
    "segundo_planeta = input('Introdusca la distancia del segundo planeta al sol')"
   ]
  },
  {
   "cell_type": "code",
   "execution_count": 24,
   "metadata": {},
   "outputs": [
    {
     "name": "stdout",
     "output_type": "stream",
     "text": [
      "163591832\n",
      "14234987523\n"
     ]
    }
   ],
   "source": [
    "conversion_primer_planeta = int(primer_planeta)\n",
    "conversion_segundo_planeta = int(segundo_planeta)\n",
    "print(conversion_primer_planeta)\n",
    "print(conversion_segundo_planeta)"
   ]
  },
  {
   "cell_type": "code",
   "execution_count": 29,
   "metadata": {},
   "outputs": [
    {
     "name": "stdout",
     "output_type": "stream",
     "text": [
      "14071395691\n",
      "8738336725\n"
     ]
    }
   ],
   "source": [
    "calculo_km = abs(conversion_segundo_planeta - conversion_primer_planeta)\n",
    "conversion_mill = ceil(calculo_km * 0.621)\n",
    "print(calculo)\n",
    "print(conversion_mill)"
   ]
  }
 ],
 "metadata": {
  "interpreter": {
   "hash": "787c2f48ccac7a94de834605814fe1d0c9a03d0c02c3d00b160e27f4c3ad1802"
  },
  "kernelspec": {
   "display_name": "Python 3.10.2 64-bit",
   "language": "python",
   "name": "python3"
  },
  "language_info": {
   "codemirror_mode": {
    "name": "ipython",
    "version": 3
   },
   "file_extension": ".py",
   "mimetype": "text/x-python",
   "name": "python",
   "nbconvert_exporter": "python",
   "pygments_lexer": "ipython3",
   "version": "3.10.2"
  },
  "orig_nbformat": 4
 },
 "nbformat": 4,
 "nbformat_minor": 2
}
