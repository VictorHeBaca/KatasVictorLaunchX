{
 "cells": [
  {
   "cell_type": "code",
   "execution_count": 1,
   "metadata": {},
   "outputs": [
    {
     "ename": "SyntaxError",
     "evalue": "invalid syntax (56974570.py, line 2)",
     "output_type": "error",
     "traceback": [
      "\u001b[1;36m  Input \u001b[1;32mIn [1]\u001b[1;36m\u001b[0m\n\u001b[1;33m    (c) Microsoft Corporation. All rights reserved.\u001b[0m\n\u001b[1;37m        ^\u001b[0m\n\u001b[1;31mSyntaxError\u001b[0m\u001b[1;31m:\u001b[0m invalid syntax\n"
     ]
    }
   ],
   "source": [
    "# Envío de esta manera la kata del modulo 2\n",
    " Microsoft Windows [Version 10.0.19043.1110]\n",
    "(c) Microsoft Corporation. All rights reserved.\n",
    "\n",
    "C:\\Users\\vherna9>python3 -m venv env\n",
    "'python3' is not recognized as an internal or external command,\n",
    "operable program or batch file.\n",
    "\n",
    "C:\\Users\\vherna9>python -m venv env\n",
    "\n",
    "C:\\Users\\vherna9>source env/bin/activate\n",
    "'source' is not recognized as an internal or external command,\n",
    "operable program or batch file.\n",
    "\n",
    "C:\\Users\\vherna9>env\\bin\\activate\n",
    "The system cannot find the path specified.\n",
    "\n",
    "C:\\Users\\vherna9>env\\Scripts\\activate\n",
    "\n",
    "(env) C:\\Users\\vherna9>pip freeze\n",
    "\n",
    "(env) C:\\Users\\vherna9>pip install python-dateutil\n",
    "Collecting python-dateutil\n",
    "  Using cached python_dateutil-2.8.2-py2.py3-none-any.whl (247 kB)\n",
    "Collecting six>=1.5\n",
    "  Using cached six-1.16.0-py2.py3-none-any.whl (11 kB)\n",
    "Installing collected packages: six, python-dateutil\n",
    "Successfully installed python-dateutil-2.8.2 six-1.16.0\n",
    "WARNING: You are using pip version 21.2.4; however, version 22.0.3 is available.\n",
    "You should consider upgrading via the 'C:\\Users\\vherna9\\env\\Scripts\\python.exe -m pip install --upgrade pip' command.\n",
    "\n",
    "(env) C:\\Users\\vherna9>pip freeze\n",
    "python-dateutil==2.8.2\n",
    "six==1.16.0\n",
    "\n",
    "(env) C:\\Users\\vherna9>deactivate\n",
    "C:\\Users\\vherna9>"
   ]
  },
  {
   "cell_type": "code",
   "execution_count": null,
   "metadata": {},
   "outputs": [],
   "source": []
  }
 ],
 "metadata": {
  "interpreter": {
   "hash": "787c2f48ccac7a94de834605814fe1d0c9a03d0c02c3d00b160e27f4c3ad1802"
  },
  "kernelspec": {
   "display_name": "Python 3.10.2 64-bit",
   "language": "python",
   "name": "python3"
  },
  "language_info": {
   "codemirror_mode": {
    "name": "ipython",
    "version": 3
   },
   "file_extension": ".py",
   "mimetype": "text/x-python",
   "name": "python",
   "nbconvert_exporter": "python",
   "pygments_lexer": "ipython3",
   "version": "3.10.2"
  },
  "orig_nbformat": 4
 },
 "nbformat": 4,
 "nbformat_minor": 2
}
