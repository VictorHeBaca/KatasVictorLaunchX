{
 "cells": [
  {
   "cell_type": "markdown",
   "metadata": {},
   "source": [
    "# Asteroide"
   ]
  },
  {
   "cell_type": "code",
   "execution_count": 5,
   "metadata": {},
   "outputs": [
    {
     "name": "stdout",
     "output_type": "stream",
     "text": [
      "Voltea al cielo y preocupate\n"
     ]
    }
   ],
   "source": [
    "#Ejercicio 1\n",
    "asteroide = 49\n",
    "if asteroide >= 25:\n",
    "    print(\"Voltea al cielo y preocupate\")\n",
    "else:\n",
    "    print(\"Todos a salvo\")"
   ]
  },
  {
   "cell_type": "code",
   "execution_count": 11,
   "metadata": {},
   "outputs": [
    {
     "name": "stdout",
     "output_type": "stream",
     "text": [
      "No hay nada que ver\n"
     ]
    }
   ],
   "source": [
    "#Ejercicio 2\n",
    "asteroide = 19\n",
    "if asteroide > 20:\n",
    "    print(\"Busca el rayo de luz en el cielo! Es un asteroide!!!\")\n",
    "elif asteroide == 20:\n",
    "    print(\"Busca el rayo de luz en el cielo! Es un asteroide!!!\")\n",
    "else:\n",
    "    print(\"No hay nada que ver\")"
   ]
  },
  {
   "cell_type": "code",
   "execution_count": 33,
   "metadata": {},
   "outputs": [
    {
     "name": "stdout",
     "output_type": "stream",
     "text": [
      "Busca el rayo de luz en el cielo! Es un asteroide!!!\n"
     ]
    }
   ],
   "source": [
    "#Ejercicio 3\n",
    "velocidad_asteroide = 34\n",
    "tamaño_asteroide =19\n",
    "if velocidad_asteroide >= 25 and tamaño_asteroide >= 25:\n",
    "    print(\"Un peligroso Asteroide se acerca!!\")\n",
    "elif velocidad_asteroide > 20:\n",
    "    print(\"Busca el rayo de luz en el cielo! Es un asteroide!!!\")\n",
    "elif tamaño_asteroide < 25:\n",
    "    print(\"No hay nada que ver\")\n",
    "else:\n",
    "    print(\"No hay nada que ver\")"
   ]
  }
 ],
 "metadata": {
  "interpreter": {
   "hash": "787c2f48ccac7a94de834605814fe1d0c9a03d0c02c3d00b160e27f4c3ad1802"
  },
  "kernelspec": {
   "display_name": "Python 3.10.2 64-bit",
   "language": "python",
   "name": "python3"
  },
  "language_info": {
   "codemirror_mode": {
    "name": "ipython",
    "version": 3
   },
   "file_extension": ".py",
   "mimetype": "text/x-python",
   "name": "python",
   "nbconvert_exporter": "python",
   "pygments_lexer": "ipython3",
   "version": "3.10.2"
  },
  "orig_nbformat": 4
 },
 "nbformat": 4,
 "nbformat_minor": 2
}
